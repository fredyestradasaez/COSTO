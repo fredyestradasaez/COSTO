{
  "nbformat": 4,
  "nbformat_minor": 0,
  "metadata": {
    "colab": {
      "provenance": [],
      "authorship_tag": "ABX9TyOH9bYHdpIvQj/Fa3zhUAKc",
      "include_colab_link": true
    },
    "kernelspec": {
      "name": "python3",
      "display_name": "Python 3"
    },
    "language_info": {
      "name": "python"
    }
  },
  "cells": [
    {
      "cell_type": "markdown",
      "metadata": {
        "id": "view-in-github",
        "colab_type": "text"
      },
      "source": [
        "<a href=\"https://colab.research.google.com/github/fredyestradasaez/COSTO/blob/main/taller4.ipynb\" target=\"_parent\"><img src=\"https://colab.research.google.com/assets/colab-badge.svg\" alt=\"Open In Colab\"/></a>"
      ]
    },
    {
      "cell_type": "markdown",
      "source": [
        "# TALLER CICLOS\n"
      ],
      "metadata": {
        "id": "qfQOjOs_lk7r"
      }
    },
    {
      "cell_type": "markdown",
      "source": [
        "### EJERCICIO 1"
      ],
      "metadata": {
        "id": "glBhFV_Nlza7"
      }
    },
    {
      "cell_type": "code",
      "source": [
        "num1 = input('Ingrese el primer número: ')\n",
        "lst1 = [int(x) for x in num1]\n",
        "\n",
        "num2 = input('Ingrese el segundo número: ')\n",
        "lst2 = [int(x) for x in num2]\n",
        "\n",
        "sum1 = sum(lst1)\n",
        "sum2 = sum(lst2)\n",
        "\n",
        "if sum1 == sum2:\n",
        "    print(\"La suma de los elementos de ambas listas es igual.\")\n",
        "else:\n",
        "    max_sum = max(sum1, sum2)\n",
        "    diff = abs(sum1 - sum2)\n",
        "\n",
        "    if max_sum == sum1:\n",
        "        print(\"La suma de los elementos de la lista 1 es mayor que la suma de los elementos de la lista 2 en\", diff, \"unidades.\")\n",
        "    else:\n",
        "        print(\"La suma de los elementos de la lista 2 es mayor que la suma de los elementos de la lista 1 en\", diff, \"unidades.\")\n"
      ],
      "metadata": {
        "colab": {
          "base_uri": "https://localhost:8080/"
        },
        "id": "i5_2KMnSnXBN",
        "outputId": "5099caaf-6d94-4740-ee64-14cbb7449af7"
      },
      "execution_count": 3,
      "outputs": [
        {
          "output_type": "stream",
          "name": "stdout",
          "text": [
            "Ingrese el primer número: 1\n",
            "Ingrese el segundo número: 2\n",
            "La suma de los elementos de la lista 2 es mayor que la suma de los elementos de la lista 1 en 1 unidades.\n"
          ]
        }
      ]
    },
    {
      "cell_type": "markdown",
      "source": [
        "### EJERCICIO 2\n"
      ],
      "metadata": {
        "id": "dDoNA3kqnhgO"
      }
    },
    {
      "cell_type": "code",
      "source": [
        "n_obj = int(input('Ingrese número de suma objetivo: '))\n",
        "num = input('Ingrese número para validar suma de dígitos: ')\n",
        "lst = [int(x) for x in num]\n",
        "\n",
        "sum_digits = 0\n",
        "for i in range(len(lst)):\n",
        "    sum_digits += lst[i]\n",
        "    if sum_digits == n_obj:\n",
        "        print(\"Suma obtenida en iteración\", i+1, \"de\", len(lst))\n",
        "        break\n",
        "\n",
        "print(\"Resultado obtenido:\", sum_digits)\n",
        "\n",
        "if sum_digits >= n_obj:\n",
        "    print(\"Alcanzó el valor objetivo.\")\n",
        "else:\n",
        "    print(\"No alcanzó el valor objetivo.\")\n"
      ],
      "metadata": {
        "colab": {
          "base_uri": "https://localhost:8080/"
        },
        "id": "W-cMpVCunjgt",
        "outputId": "e141b64b-7aea-4d20-e29a-146b78de9798"
      },
      "execution_count": 4,
      "outputs": [
        {
          "output_type": "stream",
          "name": "stdout",
          "text": [
            "Ingrese número de suma objetivo: 1\n",
            "Ingrese número para validar suma de dígitos: 1\n",
            "Suma obtenida en iteración 1 de 1\n",
            "Resultado obtenido: 1\n",
            "Alcanzó el valor objetivo.\n"
          ]
        }
      ]
    },
    {
      "cell_type": "markdown",
      "source": [
        "### EJERCICIO 3"
      ],
      "metadata": {
        "id": "sS53wfiVos5f"
      }
    },
    {
      "cell_type": "code",
      "source": [],
      "metadata": {
        "id": "v8HoFW7OovCu"
      },
      "execution_count": null,
      "outputs": []
    }
  ]
}